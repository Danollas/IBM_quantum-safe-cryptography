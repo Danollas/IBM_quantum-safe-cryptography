{
  "nbformat": 4,
  "nbformat_minor": 0,
  "metadata": {
    "colab": {
      "provenance": [],
      "machine_shape": "hm",
      "gpuType": "T4"
    },
    "kernelspec": {
      "name": "python3",
      "display_name": "Python 3"
    },
    "language_info": {
      "name": "python"
    },
    "accelerator": "GPU"
  },
  "cells": [
    {
      "cell_type": "code",
      "execution_count": 16,
      "metadata": {
        "id": "mJ-rbHXzeuPE"
      },
      "outputs": [],
      "source": [
        "import os\n",
        "import pandas as pd\n",
        "from sklearn.preprocessing import LabelBinarizer\n",
        "import tensorflow as tf\n",
        "from google.colab import drive\n",
        "import glob\n",
        "import keras\n",
        "import tensorflow as tf\n",
        "from tensorflow import keras\n",
        "import numpy as np"
      ]
    },
    {
      "cell_type": "code",
      "source": [
        "drive.mount('/content/drive/', force_remount=True)"
      ],
      "metadata": {
        "colab": {
          "base_uri": "https://localhost:8080/"
        },
        "id": "UF-tPCu8fKln",
        "outputId": "8d0bfcfa-9f00-4463-a618-f1e381fd6d33"
      },
      "execution_count": 2,
      "outputs": [
        {
          "output_type": "stream",
          "name": "stdout",
          "text": [
            "Mounted at /content/drive/\n"
          ]
        }
      ]
    },
    {
      "cell_type": "code",
      "source": [
        "filepath = glob.glob('/content/drive/My Drive/Programs/SB-FishDisease/SB-FishDisease/*/*.jpg')\n",
        "labels = [x.split('/')[-2] for x in filepath]\n",
        "labelsdf = pd.DataFrame(labels, columns=['Types'])"
      ],
      "metadata": {
        "id": "HSbcDwsHhygV"
      },
      "execution_count": 3,
      "outputs": []
    },
    {
      "cell_type": "code",
      "source": [
        "len(filepath)"
      ],
      "metadata": {
        "colab": {
          "base_uri": "https://localhost:8080/"
        },
        "id": "ABOkAlsnlWwB",
        "outputId": "923ca9e4-5d68-4a42-d6fd-389b35bd75a3"
      },
      "execution_count": 4,
      "outputs": [
        {
          "output_type": "execute_result",
          "data": {
            "text/plain": [
              "349"
            ]
          },
          "metadata": {},
          "execution_count": 4
        }
      ]
    },
    {
      "cell_type": "code",
      "source": [
        "# Initialize LabelBinarizer\n",
        "lb = LabelBinarizer()\n",
        "\n",
        "# Fit and transform the class labels\n",
        "transformed_labels = lb.fit_transform(labelsdf['Types'])\n",
        "\n",
        "# Adding One-Hot Encoded columns to the DataFrame with descriptive column names\n",
        "for i, class_name in enumerate(lb.classes_):\n",
        "    labelsdf[class_name] = transformed_labels[:, i]\n",
        "\n",
        "# Optionally, if you want to see the DataFrame\n",
        "print(labelsdf)"
      ],
      "metadata": {
        "id": "WqAIkFT_lh90",
        "colab": {
          "base_uri": "https://localhost:8080/"
        },
        "outputId": "600f393b-acaf-4530-91d8-b90cb65eb22b"
      },
      "execution_count": 5,
      "outputs": [
        {
          "output_type": "stream",
          "name": "stdout",
          "text": [
            "                                 Types  Bacterial Red disease  \\\n",
            "0    Viral diseases White tail disease                      0   \n",
            "1    Viral diseases White tail disease                      0   \n",
            "2    Viral diseases White tail disease                      0   \n",
            "3    Viral diseases White tail disease                      0   \n",
            "4    Viral diseases White tail disease                      0   \n",
            "..                                 ...                    ...   \n",
            "344  Bacterial diseases - Aeromoniasis                      0   \n",
            "345  Bacterial diseases - Aeromoniasis                      0   \n",
            "346  Bacterial diseases - Aeromoniasis                      0   \n",
            "347  Bacterial diseases - Aeromoniasis                      0   \n",
            "348  Bacterial diseases - Aeromoniasis                      0   \n",
            "\n",
            "     Bacterial diseases - Aeromoniasis  Bacterial gill disease  \\\n",
            "0                                    0                       0   \n",
            "1                                    0                       0   \n",
            "2                                    0                       0   \n",
            "3                                    0                       0   \n",
            "4                                    0                       0   \n",
            "..                                 ...                     ...   \n",
            "344                                  1                       0   \n",
            "345                                  1                       0   \n",
            "346                                  1                       0   \n",
            "347                                  1                       0   \n",
            "348                                  1                       0   \n",
            "\n",
            "     Fungal diseases Saprolegniasis  Healthy Fish  Parasitic diseases  \\\n",
            "0                                 0             0                   0   \n",
            "1                                 0             0                   0   \n",
            "2                                 0             0                   0   \n",
            "3                                 0             0                   0   \n",
            "4                                 0             0                   0   \n",
            "..                              ...           ...                 ...   \n",
            "344                               0             0                   0   \n",
            "345                               0             0                   0   \n",
            "346                               0             0                   0   \n",
            "347                               0             0                   0   \n",
            "348                               0             0                   0   \n",
            "\n",
            "     Viral diseases White tail disease  \n",
            "0                                    1  \n",
            "1                                    1  \n",
            "2                                    1  \n",
            "3                                    1  \n",
            "4                                    1  \n",
            "..                                 ...  \n",
            "344                                  0  \n",
            "345                                  0  \n",
            "346                                  0  \n",
            "347                                  0  \n",
            "348                                  0  \n",
            "\n",
            "[349 rows x 8 columns]\n"
          ]
        }
      ]
    },
    {
      "cell_type": "code",
      "source": [
        "# Define load_image function\n",
        "def load_image(filepath):\n",
        "    image = tf.io.read_file(filepath)\n",
        "    image = tf.image.decode_jpeg(image, 3)\n",
        "    image = tf.image.resize(image, [224, 224])\n",
        "    image = tf.cast(image / 127.5 - 1, tf.float32)\n",
        "    return image"
      ],
      "metadata": {
        "id": "uLXvyvTko9-b"
      },
      "execution_count": 6,
      "outputs": []
    },
    {
      "cell_type": "code",
      "source": [
        "# Create a Tensorflow dataset with only image and class label. NOTE: This will yield to an image-label pairing.\n",
        "classification_dataset = tf.data.Dataset.from_tensor_slices((filepath, transformed_labels))\n",
        "classification_dataset = classification_dataset.map(lambda img, lbl: (load_image(img), lbl))\n",
        "\n",
        "# Batch constant\n",
        "BATCH_SIZE = 16\n",
        "AUTO = tf.data.experimental.AUTOTUNE\n",
        "\n",
        "# Batch and prefetch\n",
        "classification_dataset = classification_dataset.repeat().shuffle(500).batch(BATCH_SIZE)\n",
        "classification_dataset = classification_dataset.prefetch(AUTO)\n",
        "\n",
        "# Split dataset\n",
        "test_count = int(len(filepath) * 0.2)\n",
        "train_count = len(filepath) - test_count\n",
        "\n",
        "train_dataset = classification_dataset.skip(test_count)\n",
        "test_dataset = classification_dataset.take(test_count)"
      ],
      "metadata": {
        "id": "JlvcYN4YpRHp"
      },
      "execution_count": 7,
      "outputs": []
    },
    {
      "cell_type": "code",
      "source": [],
      "metadata": {
        "id": "s3u-VMqRpSde"
      },
      "execution_count": 7,
      "outputs": []
    },
    {
      "cell_type": "code",
      "source": [
        "# Model architecture\n",
        "conv = keras.applications.xception.Xception(weights='imagenet',\n",
        "                                            include_top=False,\n",
        "                                            input_shape=(224, 224, 3),\n",
        "                                            pooling='avg')\n",
        "\n",
        "# Define only the classification part of the model\n",
        "inputs = keras.Input(shape=(224, 224, 3))\n",
        "x = conv(inputs)\n",
        "x = keras.layers.Dense(1024, activation='relu')(x)\n",
        "x = keras.layers.Dropout(0.5)(x)\n",
        "x = keras.layers.Dense(512, activation='relu')(x)\n",
        "out_class = keras.layers.Dense(7, activation='softmax', name='out_item')(x)\n",
        "\n",
        "# Create the model\n",
        "classification_model = keras.models.Model(inputs=inputs, outputs=out_class)\n",
        "classification_model.summary()"
      ],
      "metadata": {
        "colab": {
          "base_uri": "https://localhost:8080/"
        },
        "id": "3gYGtPbepy79",
        "outputId": "e1b5d284-f153-4d40-dc16-9ca3cacb0f1c"
      },
      "execution_count": 8,
      "outputs": [
        {
          "output_type": "stream",
          "name": "stdout",
          "text": [
            "Downloading data from https://storage.googleapis.com/tensorflow/keras-applications/xception/xception_weights_tf_dim_ordering_tf_kernels_notop.h5\n",
            "83683744/83683744 [==============================] - 5s 0us/step\n",
            "Model: \"model\"\n",
            "_________________________________________________________________\n",
            " Layer (type)                Output Shape              Param #   \n",
            "=================================================================\n",
            " input_2 (InputLayer)        [(None, 224, 224, 3)]     0         \n",
            "                                                                 \n",
            " xception (Functional)       (None, 2048)              20861480  \n",
            "                                                                 \n",
            " dense (Dense)               (None, 1024)              2098176   \n",
            "                                                                 \n",
            " dropout (Dropout)           (None, 1024)              0         \n",
            "                                                                 \n",
            " dense_1 (Dense)             (None, 512)               524800    \n",
            "                                                                 \n",
            " out_item (Dense)            (None, 7)                 3591      \n",
            "                                                                 \n",
            "=================================================================\n",
            "Total params: 23488047 (89.60 MB)\n",
            "Trainable params: 23433519 (89.39 MB)\n",
            "Non-trainable params: 54528 (213.00 KB)\n",
            "_________________________________________________________________\n"
          ]
        }
      ]
    },
    {
      "cell_type": "code",
      "source": [
        "# Compile the model\n",
        "classification_model.compile(optimizer=keras.optimizers.Adam(0.0003),\n",
        "                             loss='categorical_crossentropy',\n",
        "                             metrics=['acc'])"
      ],
      "metadata": {
        "id": "FDsjlTqEqBtu"
      },
      "execution_count": 9,
      "outputs": []
    },
    {
      "cell_type": "code",
      "source": [
        "# Training\n",
        "history = classification_model.fit(train_dataset,\n",
        "                                   steps_per_epoch=train_count // BATCH_SIZE,\n",
        "                                   epochs=50,\n",
        "                                   validation_data=test_dataset,\n",
        "                                   validation_steps=test_count // BATCH_SIZE)"
      ],
      "metadata": {
        "colab": {
          "base_uri": "https://localhost:8080/"
        },
        "id": "6m4acq7IqY3u",
        "outputId": "f432b2a0-bbc1-4a86-952f-bdc9e32593e8"
      },
      "execution_count": 10,
      "outputs": [
        {
          "output_type": "stream",
          "name": "stdout",
          "text": [
            "Epoch 1/50\n",
            "17/17 [==============================] - 71s 331ms/step - loss: 1.4980 - acc: 0.4007 - val_loss: 1.4971 - val_acc: 0.6250\n",
            "Epoch 2/50\n",
            "17/17 [==============================] - 4s 264ms/step - loss: 1.1322 - acc: 0.5588 - val_loss: 1.3590 - val_acc: 0.6562\n",
            "Epoch 3/50\n",
            "17/17 [==============================] - 4s 261ms/step - loss: 0.9759 - acc: 0.6618 - val_loss: 2.1963 - val_acc: 0.5938\n",
            "Epoch 4/50\n",
            "17/17 [==============================] - 4s 260ms/step - loss: 0.8168 - acc: 0.7574 - val_loss: 0.1843 - val_acc: 0.9219\n",
            "Epoch 5/50\n",
            "17/17 [==============================] - 4s 262ms/step - loss: 0.3801 - acc: 0.8713 - val_loss: 0.1762 - val_acc: 0.9219\n",
            "Epoch 6/50\n",
            "17/17 [==============================] - 4s 260ms/step - loss: 0.2663 - acc: 0.9338 - val_loss: 0.8253 - val_acc: 0.8438\n",
            "Epoch 7/50\n",
            "17/17 [==============================] - 4s 262ms/step - loss: 0.2980 - acc: 0.8934 - val_loss: 0.0465 - val_acc: 1.0000\n",
            "Epoch 8/50\n",
            "17/17 [==============================] - 4s 263ms/step - loss: 0.2390 - acc: 0.9485 - val_loss: 0.2759 - val_acc: 0.9531\n",
            "Epoch 9/50\n",
            "17/17 [==============================] - 4s 262ms/step - loss: 0.1383 - acc: 0.9632 - val_loss: 0.0120 - val_acc: 1.0000\n",
            "Epoch 10/50\n",
            "17/17 [==============================] - 4s 264ms/step - loss: 0.1305 - acc: 0.9522 - val_loss: 0.1164 - val_acc: 0.9688\n",
            "Epoch 11/50\n",
            "17/17 [==============================] - 4s 265ms/step - loss: 0.1536 - acc: 0.9632 - val_loss: 0.2415 - val_acc: 0.9375\n",
            "Epoch 12/50\n",
            "17/17 [==============================] - 4s 265ms/step - loss: 0.0957 - acc: 0.9706 - val_loss: 0.0854 - val_acc: 0.9688\n",
            "Epoch 13/50\n",
            "17/17 [==============================] - 5s 267ms/step - loss: 0.1179 - acc: 0.9632 - val_loss: 0.1435 - val_acc: 0.9844\n",
            "Epoch 14/50\n",
            "17/17 [==============================] - 5s 270ms/step - loss: 0.2428 - acc: 0.9449 - val_loss: 0.0362 - val_acc: 0.9844\n",
            "Epoch 15/50\n",
            "17/17 [==============================] - 5s 271ms/step - loss: 0.1682 - acc: 0.9485 - val_loss: 0.0056 - val_acc: 1.0000\n",
            "Epoch 16/50\n",
            "17/17 [==============================] - 5s 272ms/step - loss: 0.0930 - acc: 0.9743 - val_loss: 0.1347 - val_acc: 0.9844\n",
            "Epoch 17/50\n",
            "17/17 [==============================] - 5s 273ms/step - loss: 0.0701 - acc: 0.9890 - val_loss: 8.9426e-05 - val_acc: 1.0000\n",
            "Epoch 18/50\n",
            "17/17 [==============================] - 5s 276ms/step - loss: 0.1281 - acc: 0.9596 - val_loss: 1.1839e-04 - val_acc: 1.0000\n",
            "Epoch 19/50\n",
            "17/17 [==============================] - 5s 274ms/step - loss: 0.0667 - acc: 0.9743 - val_loss: 5.3902e-04 - val_acc: 1.0000\n",
            "Epoch 20/50\n",
            "17/17 [==============================] - 5s 272ms/step - loss: 0.0531 - acc: 0.9816 - val_loss: 0.0321 - val_acc: 0.9844\n",
            "Epoch 21/50\n",
            "17/17 [==============================] - 5s 272ms/step - loss: 0.0185 - acc: 0.9963 - val_loss: 1.0645e-04 - val_acc: 1.0000\n",
            "Epoch 22/50\n",
            "17/17 [==============================] - 5s 270ms/step - loss: 0.1558 - acc: 0.9632 - val_loss: 1.4185e-04 - val_acc: 1.0000\n",
            "Epoch 23/50\n",
            "17/17 [==============================] - 5s 269ms/step - loss: 0.1396 - acc: 0.9706 - val_loss: 0.0150 - val_acc: 1.0000\n",
            "Epoch 24/50\n",
            "17/17 [==============================] - 5s 268ms/step - loss: 0.0491 - acc: 0.9816 - val_loss: 0.3519 - val_acc: 0.9375\n",
            "Epoch 25/50\n",
            "17/17 [==============================] - 5s 269ms/step - loss: 0.0913 - acc: 0.9743 - val_loss: 0.4364 - val_acc: 0.9062\n",
            "Epoch 26/50\n",
            "17/17 [==============================] - 5s 268ms/step - loss: 0.1239 - acc: 0.9743 - val_loss: 0.2674 - val_acc: 0.9688\n",
            "Epoch 27/50\n",
            "17/17 [==============================] - 5s 268ms/step - loss: 0.0829 - acc: 0.9706 - val_loss: 0.0673 - val_acc: 0.9531\n",
            "Epoch 28/50\n",
            "17/17 [==============================] - 5s 268ms/step - loss: 0.0599 - acc: 0.9853 - val_loss: 0.0351 - val_acc: 0.9844\n",
            "Epoch 29/50\n",
            "17/17 [==============================] - 5s 269ms/step - loss: 0.0344 - acc: 0.9890 - val_loss: 0.0357 - val_acc: 0.9844\n",
            "Epoch 30/50\n",
            "17/17 [==============================] - 5s 267ms/step - loss: 0.0499 - acc: 0.9816 - val_loss: 2.1943e-04 - val_acc: 1.0000\n",
            "Epoch 31/50\n",
            "17/17 [==============================] - 5s 269ms/step - loss: 0.0933 - acc: 0.9779 - val_loss: 0.0056 - val_acc: 1.0000\n",
            "Epoch 32/50\n",
            "17/17 [==============================] - 5s 269ms/step - loss: 0.1115 - acc: 0.9559 - val_loss: 0.0304 - val_acc: 0.9844\n",
            "Epoch 33/50\n",
            "17/17 [==============================] - 5s 269ms/step - loss: 0.0717 - acc: 0.9669 - val_loss: 0.0646 - val_acc: 0.9844\n",
            "Epoch 34/50\n",
            "17/17 [==============================] - 5s 270ms/step - loss: 0.1070 - acc: 0.9853 - val_loss: 0.1078 - val_acc: 0.9531\n",
            "Epoch 35/50\n",
            "17/17 [==============================] - 5s 270ms/step - loss: 0.1220 - acc: 0.9853 - val_loss: 0.0981 - val_acc: 0.9531\n",
            "Epoch 36/50\n",
            "17/17 [==============================] - 5s 270ms/step - loss: 0.1023 - acc: 0.9743 - val_loss: 0.0102 - val_acc: 1.0000\n",
            "Epoch 37/50\n",
            "17/17 [==============================] - 5s 271ms/step - loss: 0.0782 - acc: 0.9890 - val_loss: 0.0372 - val_acc: 0.9844\n",
            "Epoch 38/50\n",
            "17/17 [==============================] - 5s 270ms/step - loss: 0.0620 - acc: 0.9816 - val_loss: 1.1751e-04 - val_acc: 1.0000\n",
            "Epoch 39/50\n",
            "17/17 [==============================] - 5s 271ms/step - loss: 0.0149 - acc: 0.9963 - val_loss: 3.4286e-05 - val_acc: 1.0000\n",
            "Epoch 40/50\n",
            "17/17 [==============================] - 5s 270ms/step - loss: 0.0056 - acc: 1.0000 - val_loss: 0.0025 - val_acc: 1.0000\n",
            "Epoch 41/50\n",
            "17/17 [==============================] - 5s 269ms/step - loss: 0.0246 - acc: 0.9926 - val_loss: 0.0548 - val_acc: 0.9844\n",
            "Epoch 42/50\n",
            "17/17 [==============================] - 5s 269ms/step - loss: 0.0207 - acc: 0.9963 - val_loss: 2.8765e-04 - val_acc: 1.0000\n",
            "Epoch 43/50\n",
            "17/17 [==============================] - 5s 270ms/step - loss: 0.0197 - acc: 0.9926 - val_loss: 0.0103 - val_acc: 1.0000\n",
            "Epoch 44/50\n",
            "17/17 [==============================] - 5s 269ms/step - loss: 0.0117 - acc: 0.9963 - val_loss: 2.3683e-04 - val_acc: 1.0000\n",
            "Epoch 45/50\n",
            "17/17 [==============================] - 5s 270ms/step - loss: 0.0109 - acc: 0.9926 - val_loss: 0.0027 - val_acc: 1.0000\n",
            "Epoch 46/50\n",
            "17/17 [==============================] - 5s 270ms/step - loss: 0.0356 - acc: 0.9816 - val_loss: 0.0173 - val_acc: 0.9844\n",
            "Epoch 47/50\n",
            "17/17 [==============================] - 5s 269ms/step - loss: 0.0271 - acc: 0.9926 - val_loss: 6.3225e-05 - val_acc: 1.0000\n",
            "Epoch 48/50\n",
            "17/17 [==============================] - 5s 270ms/step - loss: 0.0052 - acc: 1.0000 - val_loss: 1.9242e-05 - val_acc: 1.0000\n",
            "Epoch 49/50\n",
            "17/17 [==============================] - 5s 269ms/step - loss: 0.0017 - acc: 1.0000 - val_loss: 1.7601e-04 - val_acc: 1.0000\n",
            "Epoch 50/50\n",
            "17/17 [==============================] - 5s 269ms/step - loss: 0.0209 - acc: 0.9926 - val_loss: 2.3804e-06 - val_acc: 1.0000\n"
          ]
        }
      ]
    },
    {
      "cell_type": "code",
      "source": [
        "### VALIDATION PROCESS"
      ],
      "metadata": {
        "id": "LwVONcBuqcCb"
      },
      "execution_count": 11,
      "outputs": []
    },
    {
      "cell_type": "code",
      "source": [
        "# Function to load and preprocess a single image\n",
        "def load_and_preprocess_single_image(image_path):\n",
        "    image = tf.io.read_file(image_path)\n",
        "    image = tf.image.decode_jpeg(image, 3)\n",
        "    image = tf.image.resize(image, [224, 224])\n",
        "    image = tf.cast(image / 127.5 - 1, tf.float32)\n",
        "    image = tf.expand_dims(image, axis=0)  # Expand dimensions to fit the model's input shape (1, 224, 224, 3)\n",
        "    return image\n",
        "\n",
        "# Provide the path to the image you want to validate\n",
        "validation_image_path = '/content/drive/My Drive/photos/lice_anchor-worms_gill-maggots_1.jpg'\n",
        "\n",
        "# Load and preprocess the validation image\n",
        "validation_image = load_and_preprocess_single_image(validation_image_path)\n",
        "\n",
        "# Get predictions from the trained model\n",
        "predictions = classification_model.predict(validation_image)\n",
        "\n",
        "# Decode the predictions to class labels and print the predicted label\n",
        "predicted_label = lb.classes_[np.argmax(predictions)]\n",
        "print(f\"The predicted label for the uploaded image is: {predicted_label}\")"
      ],
      "metadata": {
        "colab": {
          "base_uri": "https://localhost:8080/"
        },
        "id": "fxXC5M0okp5Z",
        "outputId": "72b61c3b-53ad-46fb-9863-931ebe47a7fa"
      },
      "execution_count": 46,
      "outputs": [
        {
          "output_type": "stream",
          "name": "stdout",
          "text": [
            "1/1 [==============================] - 0s 23ms/step\n",
            "The predicted label for the uploaded image is: Parasitic diseases\n"
          ]
        }
      ]
    },
    {
      "cell_type": "code",
      "source": [],
      "metadata": {
        "id": "4BSSH4zumysZ"
      },
      "execution_count": null,
      "outputs": []
    }
  ]
}